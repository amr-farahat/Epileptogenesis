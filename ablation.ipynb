{
 "cells": [
  {
   "cell_type": "code",
   "execution_count": 1,
   "metadata": {},
   "outputs": [],
   "source": [
    "import numpy as np\n",
    "import matplotlib.pyplot as plt\n",
    "from scipy.stats import mannwhitneyu\n"
   ]
  },
  {
   "cell_type": "markdown",
   "metadata": {},
   "source": [
    "### loading AUCs (area under the curve) for each condition\n"
   ]
  },
  {
   "cell_type": "code",
   "execution_count": 2,
   "metadata": {},
   "outputs": [],
   "source": [
    "\n",
    "# standard convolutional autoencoder\n",
    "final_128_nogez_r = np.load('final_128_nogenz/aucs.npy')\n",
    "#adverserial autoencoder with sigma = 0.1\n",
    "final_128_r = np.load('final_128_0.1/aucs.npy')\n",
    "#PCA\n",
    "final_pca_128_r = np.load('pca_128/aucs.npy')\n",
    "#adverserial autoencoder with sigma = 1.0\n",
    "final_128_1_r = np.load('final_128_1.0/aucs.npy')"
   ]
  },
  {
   "cell_type": "code",
   "execution_count": 10,
   "metadata": {},
   "outputs": [],
   "source": [
    "figures_folder = '../figures2/'\n",
    "\n",
    "cm = 1/2.54\n",
    "\n",
    "labels_font = 10\n",
    "legend_font = 8\n",
    "ticks_font = 8\n",
    "title_font = 12"
   ]
  },
  {
   "cell_type": "code",
   "execution_count": 11,
   "metadata": {},
   "outputs": [],
   "source": [
    "pca_pps = [float(x[1]) for x in final_pca_128_r if '326' not in x[0]]\n",
    "pca_control = [float(x[1]) for x in final_pca_128_r if '326' in x[0]]"
   ]
  },
  {
   "cell_type": "code",
   "execution_count": 12,
   "metadata": {},
   "outputs": [],
   "source": [
    "pps_means = [np.mean(pca_pps)]\n",
    "control_means = [np.mean(pca_control)]\n",
    "pps_stds = [np.std(pca_pps)]\n",
    "control_stds = [np.std(pca_control)]"
   ]
  },
  {
   "cell_type": "code",
   "execution_count": 16,
   "metadata": {},
   "outputs": [
    {
     "data": {
      "image/png": "[encoded data removed]",
      "text/plain": [
       "<Figure size 21.6x190.8 with 1 Axes>"
      ]
     },
     "metadata": {
      "needs_background": "light"
     },
     "output_type": "display_data"
    }
   ],
   "source": [
    "\n",
    "plt.figure(figsize=(0.3,2.65))\n",
    "x = np.arange(len(pps_means))\n",
    "width = 0.35\n",
    "\n",
    "err_props = dict(linewidth=1, capthick=1)\n",
    "plt.bar(x - width/2,\n",
    "        pps_means,\n",
    "        width, label='PPS animals', \n",
    "        yerr=pps_stds,\n",
    "        align='center',\n",
    "        ecolor='black',\n",
    "        color=plt.cm.Blues(0.9),\n",
    "        error_kw = err_props,\n",
    "        capsize=2)\n",
    "plt.bar(x + width/2,\n",
    "        control_means,\n",
    "        width,\n",
    "        label='Control animals',\n",
    "        yerr=control_stds,\n",
    "        align='center',\n",
    "        ecolor='black', \n",
    "        color=plt.cm.gray(0.6),\n",
    "        error_kw = err_props,\n",
    "        capsize=2)\n",
    "# plt.text(x=0, y=1, s='ns')\n",
    "plt.xticks(range(len(pps_means)), ['$\\mathcal{R}$'] , rotation=90, fontsize=ticks_font);\n",
    "plt.yticks(np.arange(0,1.1,0.1), fontsize=ticks_font)\n",
    "plt.ylabel('Area Under the Curve (AUC)', fontsize=labels_font)\n",
    "plt.xlabel('Metric', fontsize=labels_font)\n",
    "# plt.legend(fontsize=legend_font, loc='lower right')\n",
    "plt.ylim([0,1.1])\n",
    "# plt.grid(axis='y')\n",
    "plt.title('PCA', fontsize=title_font);\n",
    "# plt.savefig(figures_folder+'PCAbars.pdf',bbox_inches='tight')"
   ]
  },
  {
   "cell_type": "code",
   "execution_count": 17,
   "metadata": {},
   "outputs": [],
   "source": [
    "final_128_nogez = np.delete(final_128_nogez_r.reshape((12,10,2)), 2, 0)"
   ]
  },
  {
   "cell_type": "code",
   "execution_count": 19,
   "metadata": {},
   "outputs": [],
   "source": [
    "x_labels = ['$\\mathcal{R}$', '$\\mathcal{D}$', '0.1 $\\mathcal{R}$', '0.2 $\\mathcal{R}$', '0.3 $\\mathcal{R}$', \n",
    "            '0.4 $\\mathcal{R}$', '0.5 $\\mathcal{R}$',\n",
    "            '0.6 $\\mathcal{R}$', '0.7 $\\mathcal{R}$', '0.8 $\\mathcal{R}$', '0.9 $\\mathcal{R}$']"
   ]
  },
  {
   "cell_type": "code",
   "execution_count": 20,
   "metadata": {},
   "outputs": [],
   "source": [
    "pps_means = []\n",
    "control_means = []\n",
    "pps_stds = []\n",
    "control_stds = []"
   ]
  },
  {
   "cell_type": "code",
   "execution_count": 21,
   "metadata": {},
   "outputs": [
    {
     "name": "stdout",
     "output_type": "stream",
     "text": [
      "MannwhitneyuResult(statistic=4.0, pvalue=0.08573010303216372)\n",
      "MannwhitneyuResult(statistic=5.0, pvalue=0.1272252913231683)\n",
      "MannwhitneyuResult(statistic=4.0, pvalue=0.08573010303216372)\n",
      "MannwhitneyuResult(statistic=4.0, pvalue=0.08573010303216372)\n",
      "MannwhitneyuResult(statistic=4.0, pvalue=0.08573010303216372)\n",
      "MannwhitneyuResult(statistic=2.0, pvalue=0.03412374418900064)\n",
      "MannwhitneyuResult(statistic=3.0, pvalue=0.05530603687426152)\n",
      "MannwhitneyuResult(statistic=3.0, pvalue=0.05530603687426152)\n",
      "MannwhitneyuResult(statistic=2.0, pvalue=0.03412374418900064)\n",
      "MannwhitneyuResult(statistic=2.0, pvalue=0.03412374418900064)\n",
      "MannwhitneyuResult(statistic=2.0, pvalue=0.03412374418900064)\n"
     ]
    }
   ],
   "source": [
    "stats=[]\n",
    "for i in range(11):\n",
    "    pca_pps = [float(x[1]) for x in final_128_nogez[i] if '326' not in x[0]]\n",
    "    pca_control = [float(x[1]) for x in final_128_nogez[i] if '326' in x[0]]\n",
    "    print(mannwhitneyu(pca_pps, pca_control))\n",
    "    stats.append(mannwhitneyu(pca_pps, pca_control)[1])\n",
    "    pps_means.append(np.mean(pca_pps))\n",
    "    control_means.append(np.mean(pca_control))\n",
    "    pps_stds.append(np.std(pca_pps))\n",
    "    control_stds.append(np.std(pca_control))    "
   ]
  },
  {
   "cell_type": "code",
   "execution_count": 25,
   "metadata": {},
   "outputs": [
    {
     "name": "stdout",
     "output_type": "stream",
     "text": [
      "[' ', ' ', ' ', ' ', ' ', '*', ' ', ' ', '*', '*', '*']\n"
     ]
    }
   ],
   "source": [
    "asts  = []\n",
    "for s in stats:\n",
    "    if s <0.02:\n",
    "        asts.append('**')\n",
    "    elif s <0.05:\n",
    "        asts.append('*')\n",
    "    else:\n",
    "        asts.append(' ')\n",
    "print(asts)"
   ]
  },
  {
   "cell_type": "code",
   "execution_count": 26,
   "metadata": {
    "scrolled": false
   },
   "outputs": [
    {
     "data": {
      "image/png": "[encoded data removed]",
      "text/plain": [
       "<Figure size 190.8x190.8 with 1 Axes>"
      ]
     },
     "metadata": {
      "needs_background": "light"
     },
     "output_type": "display_data"
    }
   ],
   "source": [
    "\n",
    "plt.figure(figsize=(2.65,2.65))\n",
    "x = np.arange(len(pps_means))\n",
    "width = 0.35\n",
    "\n",
    "err_props = dict(linewidth=1, capthick=1)\n",
    "plt.bar(x - width/2,\n",
    "        pps_means,\n",
    "        width, label='PPS animals', \n",
    "        yerr=pps_stds,\n",
    "        align='center',\n",
    "        ecolor='black',\n",
    "        color=plt.cm.Blues(0.9),\n",
    "        error_kw = err_props,\n",
    "        capsize=2)\n",
    "plt.bar(x + width/2,\n",
    "        control_means,\n",
    "        width,\n",
    "        label='Control animals',\n",
    "        yerr=control_stds,\n",
    "        align='center',\n",
    "        ecolor='black', \n",
    "        color=plt.cm.gray(0.6),\n",
    "        error_kw = err_props,\n",
    "        capsize=2)\n",
    "for i in range(len(x)):\n",
    "    plt.text(x[i]-width, 1.0, asts[i])\n",
    "\n",
    "plt.xticks(range(len(pps_means)), x_labels, rotation=90, fontsize=ticks_font);\n",
    "plt.yticks(np.arange(0,1.1,0.1), fontsize=ticks_font)\n",
    "plt.ylabel('Area Under the Curve (AUC)', fontsize=labels_font)\n",
    "plt.xlabel('Metric', fontsize=labels_font)\n",
    "# plt.legend(fontsize=legend_font, loc='lower right')\n",
    "plt.ylim([0,1.1])\n",
    "# plt.grid(axis='y')\n",
    "plt.title('Standard Convolutional \\n Autoencoder (CAE)', fontsize=title_font);\n",
    "# plt.savefig(figures_folder+'standard_auto.pdf',bbox_inches='tight')"
   ]
  },
  {
   "cell_type": "code",
   "execution_count": 27,
   "metadata": {},
   "outputs": [],
   "source": [
    "final_128 = np.delete(final_128_r.reshape((12,10,2)), 2, 0)"
   ]
  },
  {
   "cell_type": "code",
   "execution_count": 28,
   "metadata": {},
   "outputs": [],
   "source": [
    "pps_means = []\n",
    "control_means = []\n",
    "pps_stds = []\n",
    "control_stds = []"
   ]
  },
  {
   "cell_type": "code",
   "execution_count": 29,
   "metadata": {},
   "outputs": [
    {
     "name": "stdout",
     "output_type": "stream",
     "text": [
      "MannwhitneyuResult(statistic=0.0, pvalue=0.011327247040044673)\n",
      "MannwhitneyuResult(statistic=9.0, pvalue=0.40985376891489417)\n",
      "MannwhitneyuResult(statistic=6.0, pvalue=0.18096738346059615)\n",
      "MannwhitneyuResult(statistic=5.0, pvalue=0.1272252913231683)\n",
      "MannwhitneyuResult(statistic=1.0, pvalue=0.0201193385598797)\n",
      "MannwhitneyuResult(statistic=1.0, pvalue=0.0201193385598797)\n",
      "MannwhitneyuResult(statistic=1.0, pvalue=0.0201193385598797)\n",
      "MannwhitneyuResult(statistic=0.0, pvalue=0.011327247040044673)\n",
      "MannwhitneyuResult(statistic=0.0, pvalue=0.011327247040044673)\n",
      "MannwhitneyuResult(statistic=0.0, pvalue=0.011327247040044673)\n",
      "MannwhitneyuResult(statistic=0.0, pvalue=0.011327247040044673)\n"
     ]
    }
   ],
   "source": [
    "stats = []\n",
    "for i in range(11):\n",
    "    pca_pps = [float(x[1]) for x in final_128[i] if '326' not in x[0]]\n",
    "    pca_control = [float(x[1]) for x in final_128[i] if '326' in x[0]]\n",
    "    print(mannwhitneyu(pca_pps, pca_control))\n",
    "    stats.append(mannwhitneyu(pca_pps, pca_control)[1])\n",
    "    pps_means.append(np.mean(pca_pps))\n",
    "    control_means.append(np.mean(pca_control))\n",
    "    pps_stds.append(np.std(pca_pps))\n",
    "    control_stds.append(np.std(pca_control))  \n"
   ]
  },
  {
   "cell_type": "code",
   "execution_count": 31,
   "metadata": {},
   "outputs": [
    {
     "name": "stdout",
     "output_type": "stream",
     "text": [
      "['**', ' ', ' ', ' ', '*', '*', '*', '**', '**', '**', '**']\n"
     ]
    }
   ],
   "source": [
    "asts  = []\n",
    "for s in stats:\n",
    "    if s <0.02:\n",
    "        asts.append('**')\n",
    "    elif s <0.05:\n",
    "        asts.append('*')\n",
    "    else:\n",
    "        asts.append(' ')\n",
    "print(asts)"
   ]
  },
  {
   "cell_type": "code",
   "execution_count": 32,
   "metadata": {},
   "outputs": [
    {
     "data": {
      "image/png": "[encoded data removed]",
      "text/plain": [
       "<Figure size 190.8x190.8 with 1 Axes>"
      ]
     },
     "metadata": {
      "needs_background": "light"
     },
     "output_type": "display_data"
    }
   ],
   "source": [
    "\n",
    "\n",
    "plt.figure(figsize=(2.65,2.65))\n",
    "x = np.arange(len(pps_means))\n",
    "width = 0.35\n",
    "\n",
    "\n",
    "err_props = dict(linewidth=1, capthick=1)\n",
    "plt.bar(x - width/2,\n",
    "        pps_means,\n",
    "        width, label='PPS animals', \n",
    "        yerr=pps_stds,\n",
    "        align='center',\n",
    "        ecolor='black',\n",
    "        color=plt.cm.Blues(0.9),\n",
    "        error_kw = err_props,\n",
    "        capsize=2)\n",
    "plt.bar(x + width/2,\n",
    "        control_means,\n",
    "        width,\n",
    "        label='Control animals',\n",
    "        yerr=control_stds,\n",
    "        align='center',\n",
    "        ecolor='black', \n",
    "        color=plt.cm.gray(0.6),\n",
    "        error_kw = err_props,\n",
    "        capsize=2)\n",
    "for i in range(len(x)):\n",
    "    plt.text(x[i]-width/1, 1.0, asts[i])\n",
    "plt.xticks(range(len(pps_means)), x_labels, rotation=90, fontsize=ticks_font);\n",
    "plt.yticks(np.arange(0,1.1,0.1), fontsize=ticks_font)\n",
    "plt.ylabel('Area Under the Curve (AUC)', fontsize=labels_font)\n",
    "plt.xlabel('Metric', fontsize=labels_font)\n",
    "# plt.legend(fontsize=legend_font, loc='lower right')\n",
    "plt.ylim([0,1.1])\n",
    "# plt.grid(axis='y')\n",
    "plt.title('Adverserial CAE with\\nprior distribution $\\sigma$=0.1', fontsize=title_font);\n",
    "# plt.savefig(figures_folder+'adverserial_auto0.1.pdf',bbox_inches='tight')"
   ]
  },
  {
   "cell_type": "code",
   "execution_count": 33,
   "metadata": {},
   "outputs": [],
   "source": [
    "final_128_1 = np.delete(final_128_1_r.reshape((12,10,2)), 2, 0)"
   ]
  },
  {
   "cell_type": "code",
   "execution_count": 34,
   "metadata": {},
   "outputs": [],
   "source": [
    "pps_means = []\n",
    "control_means = []\n",
    "pps_stds = []\n",
    "control_stds = []"
   ]
  },
  {
   "cell_type": "code",
   "execution_count": 35,
   "metadata": {},
   "outputs": [
    {
     "name": "stdout",
     "output_type": "stream",
     "text": [
      "MannwhitneyuResult(statistic=1.0, pvalue=0.0201193385598797)\n",
      "MannwhitneyuResult(statistic=3.0, pvalue=0.05530603687426152)\n",
      "MannwhitneyuResult(statistic=3.0, pvalue=0.05530603687426152)\n",
      "MannwhitneyuResult(statistic=3.0, pvalue=0.05530603687426152)\n",
      "MannwhitneyuResult(statistic=2.0, pvalue=0.03412374418900064)\n",
      "MannwhitneyuResult(statistic=2.0, pvalue=0.03412374418900064)\n",
      "MannwhitneyuResult(statistic=2.0, pvalue=0.03412374418900064)\n",
      "MannwhitneyuResult(statistic=2.0, pvalue=0.03412374418900064)\n",
      "MannwhitneyuResult(statistic=2.0, pvalue=0.03412374418900064)\n",
      "MannwhitneyuResult(statistic=2.0, pvalue=0.03412374418900064)\n",
      "MannwhitneyuResult(statistic=1.0, pvalue=0.0201193385598797)\n"
     ]
    }
   ],
   "source": [
    "stats=[]\n",
    "for i in range(11):\n",
    "    pca_pps = [float(x[1]) for x in final_128_1[i] if '326' not in x[0]]\n",
    "    pca_control = [float(x[1]) for x in final_128_1[i] if '326' in x[0]]\n",
    "    print(mannwhitneyu(pca_pps, pca_control))\n",
    "    stats.append(mannwhitneyu(pca_pps, pca_control)[1])\n",
    "    pps_means.append(np.mean(pca_pps))\n",
    "    control_means.append(np.mean(pca_control))\n",
    "    pps_stds.append(np.std(pca_pps))\n",
    "    control_stds.append(np.std(pca_control))  \n"
   ]
  },
  {
   "cell_type": "code",
   "execution_count": 36,
   "metadata": {},
   "outputs": [
    {
     "name": "stdout",
     "output_type": "stream",
     "text": [
      "['*', ' ', ' ', ' ', '*', '*', '*', '*', '*', '*', '*']\n"
     ]
    }
   ],
   "source": [
    "asts  = []\n",
    "for s in stats:\n",
    "    if s <0.02:\n",
    "        asts.append('**')\n",
    "    elif s <0.05:\n",
    "        asts.append('*')\n",
    "    else:\n",
    "        asts.append(' ')\n",
    "print(asts)"
   ]
  },
  {
   "cell_type": "code",
   "execution_count": 37,
   "metadata": {},
   "outputs": [
    {
     "data": {
      "image/png": "[encoded data removed]",
      "text/plain": [
       "<Figure size 190.8x190.8 with 1 Axes>"
      ]
     },
     "metadata": {
      "needs_background": "light"
     },
     "output_type": "display_data"
    }
   ],
   "source": [
    "\n",
    "plt.figure(figsize=(2.65,2.65))\n",
    "x = np.arange(len(pps_means))\n",
    "width = 0.35\n",
    "\n",
    "err_props = dict(linewidth=1, capthick=1)\n",
    "\n",
    "plt.bar(x - width/2,\n",
    "        pps_means,\n",
    "        width, label='PPS animals', \n",
    "        yerr=pps_stds,\n",
    "        align='center',\n",
    "        ecolor='black',\n",
    "        color=plt.cm.Blues(0.9),\n",
    "        error_kw = err_props,\n",
    "        capsize=2)\n",
    "plt.bar(x + width/2,\n",
    "        control_means,\n",
    "        width,\n",
    "        label='Control animals',\n",
    "        yerr=control_stds,\n",
    "        align='center',\n",
    "        ecolor='black', \n",
    "        color=plt.cm.gray(0.6),\n",
    "        error_kw = err_props,\n",
    "        capsize=2)\n",
    "for i in range(len(x)):\n",
    "    plt.text(x[i]-width, 1.0, asts[i])\n",
    "plt.xticks(range(len(pps_means)), x_labels, rotation=90, fontsize=ticks_font);\n",
    "plt.yticks(np.arange(0,1.1,0.1), fontsize=ticks_font)\n",
    "plt.ylabel('Area Under the Curve (AUC)', fontsize=labels_font)\n",
    "plt.xlabel('Metric', fontsize=labels_font)\n",
    "plt.legend(fontsize=legend_font, loc='lower right')\n",
    "plt.ylim([0,1.1])\n",
    "# plt.grid(axis='y')\n",
    "\n",
    "plt.title('Adverserial CAE with\\nprior distribution $\\sigma$=1.0', fontsize=title_font);\n",
    "# plt.savefig(figures_folder+'adverserial_auto1.0.pdf',bbox_inches='tight')"
   ]
  },
  {
   "cell_type": "code",
   "execution_count": null,
   "metadata": {},
   "outputs": [],
   "source": []
  }
 ],
 "metadata": {
  "kernelspec": {
   "display_name": "Python 3",
   "language": "python",
   "name": "python3"
  },
  "language_info": {
   "codemirror_mode": {
    "name": "ipython",
    "version": 3
   },
   "file_extension": ".py",
   "mimetype": "text/x-python",
   "name": "python",
   "nbconvert_exporter": "python",
   "pygments_lexer": "ipython3",
   "version": "3.7.6"
  }
 },
 "nbformat": 4,
 "nbformat_minor": 4
}
