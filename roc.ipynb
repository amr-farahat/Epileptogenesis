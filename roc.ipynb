{
 "cells": [
  {
   "cell_type": "code",
   "execution_count": 1,
   "metadata": {},
   "outputs": [],
   "source": [
    "from utils import KnuthMorrisPratt\n",
    "import numpy as np\n",
    "import matplotlib.pyplot as plt\n",
    "import itertools\n",
    "import os\n",
    "import scipy\n",
    "import math\n",
    "import pandas as pd\n",
    "from sklearn import metrics"
   ]
  },
  {
   "cell_type": "code",
   "execution_count": 2,
   "metadata": {},
   "outputs": [],
   "source": [
    "root_logdir = './'\n",
    "models = sorted([f for f in os.listdir(root_logdir) if os.path.isdir(os.path.join(root_logdir, f))])\n",
    "no_samples = 1000       # number of data points samples for ROC analysis (1000 hours)\n",
    "window_in_minutes = 60    \n",
    "th_percentile = 99"
   ]
  },
  {
   "cell_type": "code",
   "execution_count": 3,
   "metadata": {},
   "outputs": [],
   "source": [
    "def plot_roc(fpr, tpr, roc_auc, animal, title):\n",
    "    lw = 2\n",
    "    if \"326\" in animal:\n",
    "        plt.plot(fpr, tpr,\n",
    "                lw=lw, label=animal+' (area = %0.2f)' % roc_auc, linestyle='--')\n",
    "    else:\n",
    "        plt.plot(fpr, tpr,\n",
    "                lw=lw, label=animal+' (area = %0.2f)' % roc_auc)        \n",
    "    plt.plot([0, 1], [0, 1], color='navy', lw=lw, linestyle='--')\n",
    "    plt.xlim([0.0, 1.0])\n",
    "    plt.ylim([0.0, 1.05])\n",
    "    plt.xlabel('False Positive Rate')\n",
    "    plt.ylabel('True Positive Rate')\n",
    "    plt.title('ROC \\n'+title)\n",
    "    plt.legend(loc=\"lower right\")"
   ]
  },
  {
   "cell_type": "code",
   "execution_count": 7,
   "metadata": {},
   "outputs": [
    {
     "name": "stdout",
     "output_type": "stream",
     "text": [
      "working on: run_EPG_anomaly_2021_03_10-12_56_LOO_16_1275\n",
      "working on: run_EPG_anomaly_2021_03_10-12_57_LOO_22_32140\n",
      "working on: run_EPG_anomaly_2021_03_10-12_57_LOO_53_3263\n",
      "working on: run_EPG_anomaly_2021_03_10-13_11_LOO_33_1227\n",
      "working on: run_EPG_anomaly_2021_03_10-22_45_LOO_02_3266\n",
      "working on: run_EPG_anomaly_2021_03_11-00_12_LOO_23_1276\n",
      "working on: run_EPG_anomaly_2021_03_11-01_45_LOO_00_1237\n",
      "working on: run_EPG_anomaly_2021_03_11-02_08_LOO_25_32141\n",
      "working on: run_EPG_anomaly_2021_03_11-10_20_LOO_09_3267\n",
      "working on: run_EPG_anomaly_2021_03_12-16_42_LOO_18_1270\n"
     ]
    }
   ],
   "source": [
    "\n",
    "y_s = []\n",
    "no_v_re_s = []\n",
    "no_e_re_s = []\n",
    "no_v_d_s = []\n",
    "no_e_d_s = []\n",
    "\n",
    "\n",
    "for model_name in models:\n",
    "    print('working on: '+model_name)\n",
    "    animal = model_name[40:]\n",
    "    run_logdir = root_logdir + model_name\n",
    "    output_directory = run_logdir +  '/stats/'\n",
    "    if not os.path.exists(output_directory):\n",
    "        os.mkdir(output_directory)\n",
    "\n",
    "    # training data reconstruction errors pooled across animals\n",
    "    whole_segment_t_errors = np.load(output_directory+'train_data/whole_segment_t_errors.npy')\n",
    "    # test animal baseline data reconstruction errors \n",
    "    whole_segment_v_errors = np.load(output_directory+'valid_data/whole_segment_v_errors.npy')\n",
    "    # test animal epileptogenesis data reconstruction errors pooled across animals\n",
    "    whole_segment_e_errors = np.load(output_directory+'epg_data/whole_segment_e_errors.npy')\n",
    "\n",
    "    # same for distances to the origin of the latent prior distribution used in training\n",
    "    d_t = np.load(output_directory+'train_data/distances.npy')\n",
    "    d_v = np.load(output_directory+'valid_data/distances.npy')\n",
    "    d_e = np.load(output_directory+'epg_data/distances.npy')\n",
    "\n",
    "    # computing the thresholds\n",
    "    th99 = np.percentile(whole_segment_t_errors, th_percentile)\n",
    "    th99_d = np.percentile(d_t, th_percentile)\n",
    "\n",
    "    \n",
    "    window = int((window_in_minutes*60)/1)\n",
    "\n",
    "    # computing the reconstruction error anomaly score for every hour in the recording baseline and epileptogenesis\n",
    "    r = np.where(whole_segment_v_errors>th99, 1, 0)\n",
    "    frequency_v = pd.Series(r).rolling(window).sum().dropna().values\n",
    "    r = np.where(whole_segment_e_errors>th99, 1, 0)\n",
    "    frequency_e = pd.Series(r).rolling(window).sum().dropna().values\n",
    "\n",
    "    # computing the distance anomaly score for every hour in the recording baseline and epileptogenesis\n",
    "    r = np.where(d_v>th99_d, 1, 0)\n",
    "    frequency_v_d = pd.Series(r).rolling(window).sum().dropna().values\n",
    "    r = np.where(d_e>th99_d, 1, 0)\n",
    "    frequency_e_d = pd.Series(r).rolling(window).sum().dropna().values\n",
    "\n",
    "\n",
    "    # randomly sampling 1000 hours from each period (baseline and epileptogenesis)\n",
    "    idx_v = np.random.choice(frequency_v.shape[0], no_samples)\n",
    "    idx_e = np.random.choice(frequency_e.shape[0], no_samples)\n",
    "    no_v_re = frequency_v[idx_v]\n",
    "    no_e_re = frequency_e[idx_e]\n",
    "    no_v_d = frequency_v_d[idx_v]\n",
    "    no_e_d = frequency_e_d[idx_e]\n",
    "\n",
    "\n",
    "    no_v_re_s.append(no_v_re)\n",
    "    no_e_re_s.append(no_e_re)\n",
    "    no_v_d_s.append(no_v_d)\n",
    "    no_e_d_s.append(no_e_d)\n",
    "\n",
    "    # creating a ground truth label vector\n",
    "    y = list(np.zeros(no_samples*1))+list(np.ones(no_samples*1))\n",
    "    y_s.append(y)"
   ]
  },
  {
   "cell_type": "code",
   "execution_count": 18,
   "metadata": {},
   "outputs": [],
   "source": [
    "aucs=[]\n",
    "fprs = []\n",
    "tprs = []\n",
    "\n",
    "for k, model_name in enumerate(models):\n",
    "    animal = model_name[40:]\n",
    "    no_v_re = no_v_re_s[k]\n",
    "    no_e_re = no_e_re_s[k]\n",
    "    \n",
    "    no_v_d = no_v_d_s[k]\n",
    "    no_e_d = no_e_d_s[k]\n",
    "\n",
    "    y = y_s[k]\n",
    "    \n",
    "    # computing the weighted average anomaly score\n",
    "    re_contrib = 0.8\n",
    "    no_v = re_contrib*no_v_re + (1 - re_contrib)*no_v_d\n",
    "    no_e = re_contrib*no_e_re + (1 - re_contrib)*no_e_d\n",
    "\n",
    "    # calculating false nd true positive rates for roc curves plotting\n",
    "    fpr, tpr, thresholds = metrics.roc_curve(y, list(no_v)+list(no_e))\n",
    "    \n",
    "    roc_auc = metrics.auc(fpr, tpr)\n",
    "    fprs.append(fpr)\n",
    "    tprs.append(tpr)\n",
    "    aucs.append(roc_auc)\n"
   ]
  },
  {
   "cell_type": "code",
   "execution_count": 19,
   "metadata": {},
   "outputs": [],
   "source": [
    "fprs = np.array(fprs)\n",
    "tprs = np.array(tprs)"
   ]
  },
  {
   "cell_type": "code",
   "execution_count": 11,
   "metadata": {},
   "outputs": [],
   "source": [
    "figures_folder = '../figures2/'"
   ]
  },
  {
   "cell_type": "code",
   "execution_count": 12,
   "metadata": {},
   "outputs": [],
   "source": [
    "control_mask = ['326' in x for x in models]\n",
    "pps_mask = ['326' not in x for x in models]"
   ]
  },
  {
   "cell_type": "code",
   "execution_count": 13,
   "metadata": {},
   "outputs": [],
   "source": [
    "models = np.array(models)\n",
    "aucs = np.array(aucs)"
   ]
  },
  {
   "cell_type": "code",
   "execution_count": 14,
   "metadata": {},
   "outputs": [],
   "source": [
    "cm = 1/2.54\n",
    "\n",
    "labels_font = 10\n",
    "legend_font = 8\n",
    "ticks_font = 8\n",
    "title_font = 12"
   ]
  },
  {
   "cell_type": "code",
   "execution_count": 15,
   "metadata": {},
   "outputs": [],
   "source": [
    "mapping = {'1227': 'PPS 1',\n",
    " '1237': 'PPS 2',\n",
    " '1270': 'PPS 3',\n",
    " '1275': 'PPS 4',\n",
    " '1276': 'PPS 5',\n",
    " '32140': 'PPS 6',\n",
    " '32141': 'PPS 7',\n",
    " '3263': 'Ctrl 1',\n",
    " '3266': 'Ctrl 2',\n",
    " '3267': 'Ctrl 3'}"
   ]
  },
  {
   "cell_type": "code",
   "execution_count": 20,
   "metadata": {},
   "outputs": [
    {
     "data": {
      "image/png": "[encoded data removed]",
      "text/plain": [
       "<Figure size 288x288 with 1 Axes>"
      ]
     },
     "metadata": {
      "needs_background": "light"
     },
     "output_type": "display_data"
    }
   ],
   "source": [
    "# plt.figure()\n",
    "plt.figure(figsize=(4,4))\n",
    "control_animals = models[control_mask]\n",
    "pps_animals = models[pps_mask]\n",
    "\n",
    "    \n",
    "for i in range(len(fprs[pps_mask])):\n",
    "    animal = pps_animals[i][40:]    \n",
    "    if i==0:\n",
    "        plt.plot(fprs[pps_mask][i], tprs[pps_mask][i],\n",
    "                 lw=2,\n",
    "                 label='PPS animals',\n",
    "#                  label=mapping[animal]+' (%0.2f)' % aucs[pps_mask][i],\n",
    "                 color=plt.cm.Blues(0.9))\n",
    "    #              color=plt.cm.Blues(i/7+0.3))\n",
    "    else:\n",
    "        plt.plot(fprs[pps_mask][i], tprs[pps_mask][i],\n",
    "                 lw=2,\n",
    "                 color=plt.cm.Blues(0.9))\n",
    "        \n",
    "for i in range(len(fprs[control_mask])):\n",
    "    animal = control_animals[i][40:]\n",
    "    if i==0:\n",
    "        plt.plot(fprs[control_mask][i], tprs[control_mask][i],\n",
    "                 lw=2,\n",
    "                 label='Control animals',\n",
    "#                  label=mapping[animal]+' (%0.2f)' % aucs[control_mask][i],\n",
    "                 color=plt.cm.gray(0.6))\n",
    "    #              color=plt.cm.Oranges(i/3+0.3))\n",
    "    else:\n",
    "        plt.plot(fprs[control_mask][i], tprs[control_mask][i],\n",
    "                 lw=2,\n",
    "                 color=plt.cm.gray(0.6))\n",
    "    \n",
    "plt.plot([0, 1], [0, 1], color='black', lw=1, linestyle='-.')\n",
    "plt.xlim([-0.05, 1.05]);\n",
    "plt.ylim([-0.05, 1.05]);\n",
    "plt.xlabel('False Positive Rate', fontsize=labels_font);\n",
    "plt.ylabel('True Positive Rate', fontsize=labels_font);\n",
    "plt.title('ROC curve', fontsize=title_font);\n",
    "plt.legend(loc=\"lower right\", fontsize=legend_font, ncol=1);\n",
    "plt.xticks(fontsize=ticks_font);\n",
    "plt.yticks(fontsize=ticks_font);\n",
    "# plt.savefig(figures_folder+'roc.pdf',bbox_inches='tight')"
   ]
  },
  {
   "cell_type": "code",
   "execution_count": null,
   "metadata": {},
   "outputs": [],
   "source": []
  }
 ],
 "metadata": {
  "kernelspec": {
   "display_name": "Python 3",
   "language": "python",
   "name": "python3"
  },
  "language_info": {
   "codemirror_mode": {
    "name": "ipython",
    "version": 3
   },
   "file_extension": ".py",
   "mimetype": "text/x-python",
   "name": "python",
   "nbconvert_exporter": "python",
   "pygments_lexer": "ipython3",
   "version": "3.7.6"
  }
 },
 "nbformat": 4,
 "nbformat_minor": 4
}
